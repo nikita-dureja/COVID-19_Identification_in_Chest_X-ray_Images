{
 "cells": [
  {
   "cell_type": "code",
   "execution_count": 1,
   "metadata": {},
   "outputs": [],
   "source": [
    "import numpy as np\n",
    "import pandas as pd\n",
    "import matplotlib.pyplot as plt\n",
    "import tensorflow as tf\n",
    "import random\n",
    "from tensorflow import keras\n",
    "from tensorflow.keras.models import Model\n",
    "from tensorflow.python.keras.utils import data_utils\n",
    "from sklearn.metrics import confusion_matrix, classification_report, roc_auc_score, cohen_kappa_score\n",
    "from tensorflow.keras.preprocessing.image import ImageDataGenerator\n"
   ]
  },
  {
   "cell_type": "markdown",
   "metadata": {},
   "source": [
    "# Performance Evaluation for VGG"
   ]
  },
  {
   "cell_type": "code",
   "execution_count": 2,
   "metadata": {},
   "outputs": [
    {
     "name": "stdout",
     "output_type": "stream",
     "text": [
      "Found 780 images belonging to 3 classes.\n"
     ]
    }
   ],
   "source": [
    "test_datagen = ImageDataGenerator(rescale = 1./255) \n",
    "\n",
    "\n",
    "#Loading test images\n",
    "test_generator_model = test_datagen.flow_from_directory(\n",
    "        'test/',  \n",
    "        target_size=(224, 224),  \n",
    "        batch_size= 32,\n",
    "         shuffle= False,\n",
    "        class_mode='categorical') "
   ]
  },
  {
   "cell_type": "code",
   "execution_count": 3,
   "metadata": {},
   "outputs": [
    {
     "name": "stdout",
     "output_type": "stream",
     "text": [
      "25/25 [==============================] - 182s 7s/step - loss: 0.3756 - accuracy: 0.8513\n"
     ]
    }
   ],
   "source": [
    "#load model\n",
    "model = keras.models.load_model('Covid19_model.h5')\n",
    "scores_model = model.evaluate(test_generator_model)"
   ]
  },
  {
   "cell_type": "code",
   "execution_count": 4,
   "metadata": {},
   "outputs": [
    {
     "name": "stdout",
     "output_type": "stream",
     "text": [
      "Accuracy =  0.8512820601463318\n",
      "-------------------------\n",
      "Loss =  0.3756211996078491\n",
      "-------------------------\n",
      "Confusion Matrix\n",
      "[[111   7  22]\n",
      " [  2 276   9]\n",
      " [ 36  40 277]]\n",
      "-------------------------\n",
      "Classification Report\n",
      "              precision    recall  f1-score   support\n",
      "\n",
      "     Class 0       0.74      0.79      0.77       140\n",
      "     Class 1       0.85      0.96      0.90       287\n",
      "     Class 2       0.90      0.78      0.84       353\n",
      "\n",
      "    accuracy                           0.85       780\n",
      "   macro avg       0.83      0.85      0.84       780\n",
      "weighted avg       0.86      0.85      0.85       780\n",
      "\n",
      "-------------------------\n",
      "ROC_AUC_Score\n",
      "0.9600518835216194\n",
      "-------------------------\n",
      "Kappa_coefficient_score\n",
      "0.7656656695544074\n"
     ]
    }
   ],
   "source": [
    "#testing images and label\n",
    "probabilities_model = model.predict(test_generator_model)\n",
    "y_pred_model = np.argmax(probabilities_model, axis=1)\n",
    "\n",
    "#performance metrics\n",
    "accuracy_vgg = scores_model[1]\n",
    "print(\"Accuracy = \", accuracy_vgg)\n",
    "print(\"-------------------------\")\n",
    "loss_vgg = scores_model[0]\n",
    "print(\"Loss = \", loss_vgg)\n",
    "print(\"-------------------------\")\n",
    "print(\"Confusion Matrix\")\n",
    "vgg_confusion_matrix = confusion_matrix(test_generator_model.classes, y_pred_model)\n",
    "print(vgg_confusion_matrix)\n",
    "print(\"-------------------------\")\n",
    "print(\"Classification Report\")\n",
    "report = classification_report(test_generator_model.classes, y_pred_model, target_names = [\"Class 0\", \"Class 1\", \"Class 2\"]) \n",
    "print(report)\n",
    "print(\"-------------------------\")\n",
    "print(\"ROC_AUC_Score\")\n",
    "auc_vgg = roc_auc_score(test_generator_model.classes, probabilities_model, multi_class = 'ovr' )\n",
    "print(auc_vgg)\n",
    "print(\"-------------------------\")\n",
    "print(\"Kappa_coefficient_score\")\n",
    "kappa_vgg = cohen_kappa_score(test_generator_model.classes, y_pred_model )\n",
    "print(kappa_vgg)"
   ]
  },
  {
   "cell_type": "code",
   "execution_count": 5,
   "metadata": {},
   "outputs": [
    {
     "name": "stdout",
     "output_type": "stream",
     "text": [
      "sensitivity for covid_pneumonia class: 0.7928571428571428\n",
      "specificity for covid_pneumonia class: 0.940625\n",
      "sensitivity for healthy class: 0.7928571428571428\n",
      "specificity for healthy class: 0.940625\n",
      "sensitivity for pneumonia class: 0.7928571428571428\n",
      "specificity for pneumonia class: 0.940625\n",
      "average sensitivity: 0.8464107220999365\n",
      "average_specificity: 0.924230260928566\n"
     ]
    }
   ],
   "source": [
    "##performance metrics for covid_pneumonia class\n",
    "\n",
    "tp = 111 # true positive\n",
    "tn = 276+277+9+40 # true negative\n",
    "fn = 7+22 # false negative\n",
    "fp = 36+2 # false positive\n",
    "\n",
    "precision_covid_vgg = tp/(tp+fp)\n",
    "sensitivity_covid_vgg = tp/(tp+fn)  #same as recall that we obtained from classification report\n",
    "print ('sensitivity for covid_pneumonia class:', sensitivity_covid_vgg)\n",
    "specificity_covid_vgg = tn/(fp+tn)\n",
    "print ('specificity for covid_pneumonia class:', specificity_covid_vgg)\n",
    "f1_covid_vgg = 2 * sensitivity_covid_vgg * precision_covid_vgg / (sensitivity_covid_vgg+precision_covid_vgg)\n",
    "\n",
    "##performance metrics for healthy class\n",
    "\n",
    "\n",
    "tp = 276  # true positive\n",
    "tn = 111+277+22+36  # true negative\n",
    "fn = 2+9  # false negative\n",
    "fp = 40+7  # false positive\n",
    "\n",
    "precision_healthy_vgg = tp/(tp+fp)\n",
    "sensitivity_healthy_vgg = tp/(tp+fn)  #same as recall that we obtained from classification report\n",
    "print ('sensitivity for healthy class:', sensitivity_covid_vgg)\n",
    "specificity_healthy_vgg = tn/(fp+tn)\n",
    "print ('specificity for healthy class:', specificity_covid_vgg)\n",
    "f1_healthy_vgg = 2 * sensitivity_covid_vgg * precision_covid_vgg / (sensitivity_covid_vgg+precision_covid_vgg)\n",
    "\n",
    "\n",
    "##performance metrics for pneumonia class\n",
    "\n",
    "tp = 277  # true positive\n",
    "tn = 111+276+7+2  # true negative\n",
    "fn = 36+40  # false negative\n",
    "fp = 22+9  # false positive\n",
    "\n",
    "precision_pneumonia_vgg = tp/(tp+fp)\n",
    "sensitivity_pneumonia_vgg = tp/(tp+fn)  #same as recall that we obtained from classification report\n",
    "print ('sensitivity for pneumonia class:', sensitivity_covid_vgg)\n",
    "specificity_pneumonia_vgg = tn/(fp+tn)\n",
    "print ('specificity for pneumonia class:', specificity_covid_vgg)\n",
    "f1_pneumonia_vgg = 2 * sensitivity_covid_vgg * precision_covid_vgg / (sensitivity_covid_vgg+precision_covid_vgg)\n",
    "\n",
    "\n",
    "average_sensitivity_vgg = (sensitivity_covid_vgg + sensitivity_healthy_vgg + sensitivity_pneumonia_vgg)/3\n",
    "print ('average sensitivity:', average_sensitivity_vgg)\n",
    "average_specificity_vgg = (specificity_covid_vgg + specificity_healthy_vgg + specificity_pneumonia_vgg)/3\n",
    "print ('average_specificity:', average_specificity_vgg)"
   ]
  },
  {
   "cell_type": "code",
   "execution_count": 6,
   "metadata": {
    "scrolled": false
   },
   "outputs": [
    {
     "name": "stdout",
     "output_type": "stream",
     "text": [
      "Image belongs to class : healthy\n",
      "                   \n",
      "Predicting Probabilities for the image : [0.00622763 0.8004192  0.1933532 ]\n",
      "     \n",
      "Most likely class: healthy -- Probability: 0.8004192\n",
      "Second most likely class: pneumonia -- Probability: 0.1933532\n",
      "Third most likely class: covid_pneumonia -- Probability: 0.0062276274\n",
      "                     \n",
      "Image Predicted under class : healthy\n",
      "-----------------------------------------------\n",
      "Image belongs to class : pneumonia\n",
      "                   \n",
      "Predicting Probabilities for the image : [0.01094934 0.15870775 0.8303429 ]\n",
      "     \n",
      "Most likely class: pneumonia -- Probability: 0.8303429\n",
      "Second most likely class: healthy -- Probability: 0.15870775\n",
      "Third most likely class: covid_pneumonia -- Probability: 0.010949336\n",
      "                     \n",
      "Image Predicted under class : pneumonia\n",
      "-----------------------------------------------\n",
      "Image belongs to class : covid_pneumonia\n",
      "                   \n",
      "Predicting Probabilities for the image : [0.6610119  0.02774251 0.31124562]\n",
      "     \n",
      "Most likely class: covid_pneumonia -- Probability: 0.6610119\n",
      "Second most likely class: pneumonia -- Probability: 0.31124562\n",
      "Third most likely class: healthy -- Probability: 0.02774251\n",
      "                     \n",
      "Image Predicted under class : covid_pneumonia\n",
      "-----------------------------------------------\n",
      "Image belongs to class : healthy\n",
      "                   \n",
      "Predicting Probabilities for the image : [0.00099736 0.7644465  0.23455618]\n",
      "     \n",
      "Most likely class: healthy -- Probability: 0.7644465\n",
      "Second most likely class: pneumonia -- Probability: 0.23455618\n",
      "Third most likely class: covid_pneumonia -- Probability: 0.0009973613\n",
      "                     \n",
      "Image Predicted under class : healthy\n",
      "-----------------------------------------------\n",
      "Image belongs to class : pneumonia\n",
      "                   \n",
      "Predicting Probabilities for the image : [8.561980e-05 6.621320e-02 9.337012e-01]\n",
      "     \n",
      "Most likely class: pneumonia -- Probability: 0.9337012\n",
      "Second most likely class: healthy -- Probability: 0.0662132\n",
      "Third most likely class: covid_pneumonia -- Probability: 8.56198e-05\n",
      "                     \n",
      "Image Predicted under class : pneumonia\n",
      "-----------------------------------------------\n",
      "Image belongs to class : healthy\n",
      "                   \n",
      "Predicting Probabilities for the image : [0.00136959 0.8650944  0.13353597]\n",
      "     \n",
      "Most likely class: healthy -- Probability: 0.8650944\n",
      "Second most likely class: pneumonia -- Probability: 0.13353597\n",
      "Third most likely class: covid_pneumonia -- Probability: 0.0013695876\n",
      "                     \n",
      "Image Predicted under class : healthy\n",
      "-----------------------------------------------\n",
      "Image belongs to class : pneumonia\n",
      "                   \n",
      "Predicting Probabilities for the image : [0.26706383 0.4690997  0.26383647]\n",
      "     \n",
      "Most likely class: healthy -- Probability: 0.4690997\n",
      "Second most likely class: covid_pneumonia -- Probability: 0.26706383\n",
      "Third most likely class: pneumonia -- Probability: 0.26383647\n",
      "                     \n",
      "Image Predicted under class : healthy\n",
      "-----------------------------------------------\n",
      "Image belongs to class : pneumonia\n",
      "                   \n",
      "Predicting Probabilities for the image : [0.04378892 0.04126418 0.91494685]\n",
      "     \n",
      "Most likely class: pneumonia -- Probability: 0.91494685\n",
      "Second most likely class: covid_pneumonia -- Probability: 0.043788917\n",
      "Third most likely class: healthy -- Probability: 0.041264176\n",
      "                     \n",
      "Image Predicted under class : pneumonia\n",
      "-----------------------------------------------\n",
      "Image belongs to class : healthy\n",
      "                   \n",
      "Predicting Probabilities for the image : [8.375620e-06 9.590704e-01 4.092121e-02]\n",
      "     \n",
      "Most likely class: healthy -- Probability: 0.9590704\n",
      "Second most likely class: pneumonia -- Probability: 0.04092121\n",
      "Third most likely class: covid_pneumonia -- Probability: 8.37562e-06\n",
      "                     \n",
      "Image Predicted under class : healthy\n",
      "-----------------------------------------------\n",
      "Image belongs to class : healthy\n",
      "                   \n",
      "Predicting Probabilities for the image : [3.6373528e-06 9.9828243e-01 1.7138689e-03]\n",
      "     \n",
      "Most likely class: healthy -- Probability: 0.99828243\n",
      "Second most likely class: pneumonia -- Probability: 0.0017138689\n",
      "Third most likely class: covid_pneumonia -- Probability: 3.6373528e-06\n",
      "                     \n",
      "Image Predicted under class : healthy\n",
      "-----------------------------------------------\n"
     ]
    }
   ],
   "source": [
    "number_to_class = ['covid_pneumonia','healthy','pneumonia']\n",
    "vgg_classes = number_to_class\n",
    "#randomly displyaing probabilities of images\n",
    "for i in range(10):\n",
    "    \n",
    "    img = random.randrange(0, 779)\n",
    "    \n",
    "    print(\"Image belongs to class : \" + number_to_class[test_generator_model.classes[img]])\n",
    "    \n",
    "    print(\"                   \")\n",
    "\n",
    "    print(\"Predicting Probabilities for the image : \" + str(probabilities_model[img]))\n",
    "\n",
    "    index = np.argsort(probabilities_model[img])\n",
    "    print (\"     \")\n",
    "    print(\"Most likely class:\", number_to_class[index[2]], \"-- Probability:\", probabilities_model[img][index[2]])\n",
    "    print(\"Second most likely class:\", number_to_class[index[1]], \"-- Probability:\", probabilities_model[img][index[1]])\n",
    "    print(\"Third most likely class:\", number_to_class[index[0]], \"-- Probability:\", probabilities_model[img][index[0]])\n",
    "    \n",
    "    print(\"                     \")\n",
    "    print(\"Image Predicted under class : \" + number_to_class[index[2]])\n",
    "    print(\"-----------------------------------------------\")\n",
    "    \n",
    "    "
   ]
  },
  {
   "cell_type": "markdown",
   "metadata": {},
   "source": [
    "# Performance Evaluation for ResNet"
   ]
  },
  {
   "cell_type": "code",
   "execution_count": 7,
   "metadata": {},
   "outputs": [
    {
     "name": "stdout",
     "output_type": "stream",
     "text": [
      "Found 780 images belonging to 3 classes.\n"
     ]
    },
    {
     "data": {
      "text/plain": [
       "{'covid_pneumonia': 0, 'healthy': 1, 'pneumonia': 2}"
      ]
     },
     "execution_count": 7,
     "metadata": {},
     "output_type": "execute_result"
    }
   ],
   "source": [
    "test_datagen = ImageDataGenerator(rescale = 1./255) \n",
    "\n",
    "#Loading test images\n",
    "test_generator = test_datagen.flow_from_directory(\n",
    "        'test/',  \n",
    "        target_size=(224, 224),  \n",
    "        batch_size= 32,\n",
    "        shuffle= False,\n",
    "        class_mode='categorical') \n",
    "\n",
    "test_generator.class_indices #Indices for different image categories"
   ]
  },
  {
   "cell_type": "code",
   "execution_count": 8,
   "metadata": {},
   "outputs": [
    {
     "name": "stdout",
     "output_type": "stream",
     "text": [
      "25/25 [==============================] - 72s 3s/step - loss: 0.4541 - accuracy: 0.9026\n",
      "Accuracy =  0.9025641083717346\n",
      "Loss =  0.4540766477584839\n"
     ]
    }
   ],
   "source": [
    "model = keras.models.load_model('finetune-resnet50.h5') #Loading the saved model\n",
    "scores_resnet = model.evaluate(test_generator)\n",
    "accuracy_resnet = scores_resnet[1]\n",
    "loss_resnet = scores_resnet[0]\n",
    "print(\"Accuracy = \", accuracy_resnet)\n",
    "print(\"Loss = \", loss_resnet)"
   ]
  },
  {
   "cell_type": "code",
   "execution_count": 9,
   "metadata": {},
   "outputs": [
    {
     "name": "stdout",
     "output_type": "stream",
     "text": [
      "Confusion Matrix\n",
      "[[116   2  22]\n",
      " [  5 264  18]\n",
      " [ 22   7 324]]\n",
      "Classification Report\n",
      "                 precision    recall  f1-score   support\n",
      "\n",
      "covid_pneumonia       0.81      0.83      0.82       140\n",
      "        healthy       0.97      0.92      0.94       287\n",
      "      pneumonia       0.89      0.92      0.90       353\n",
      "\n",
      "       accuracy                           0.90       780\n",
      "      macro avg       0.89      0.89      0.89       780\n",
      "   weighted avg       0.90      0.90      0.90       780\n",
      "\n",
      "Cohens kappa: 0.8446284370847388\n",
      "ROC AUC: 0.9737513320347911\n"
     ]
    }
   ],
   "source": [
    "from sklearn.metrics import confusion_matrix, cohen_kappa_score, roc_auc_score, accuracy_score, classification_report\n",
    "\n",
    "probability_pred = model.predict(test_generator) #predict Probability for test set\n",
    "y_pred = np.argmax(probability_pred, axis=1) #predict classes for test set\n",
    "\n",
    "print('Confusion Matrix')\n",
    "resnet_classes = test_generator.classes\n",
    "resnet_confusion_matrix = confusion_matrix(resnet_classes, y_pred)\n",
    "print(resnet_confusion_matrix)\n",
    "\n",
    "\n",
    "print('Classification Report')\n",
    "target_names = ['covid_pneumonia', 'healthy', 'pneumonia']\n",
    "print(classification_report(test_generator.classes, y_pred,target_names=target_names))\n",
    "\n",
    "kappa_Resnet = cohen_kappa_score(test_generator.classes, y_pred)\n",
    "print('Cohens kappa:', kappa_Resnet)\n",
    "\n",
    "auc_Resnet = roc_auc_score(test_generator.classes, probability_pred, multi_class=\"ovr\",average='macro')\n",
    "print('ROC AUC:', auc_Resnet)"
   ]
  },
  {
   "cell_type": "code",
   "execution_count": 10,
   "metadata": {},
   "outputs": [
    {
     "name": "stdout",
     "output_type": "stream",
     "text": [
      "sensitivity for covid_pneumonia class: 0.8285714285714286\n",
      "specificity for covid_pneumonia class: 0.9578125\n",
      "sensitivity for healthy class: 0.9198606271777003\n",
      "specificity for healthy class: 0.9817444219066938\n",
      "sensitivity for pneumonia class: 0.9178470254957507\n",
      "specificity for pneumonia class: 0.9063231850117096\n",
      "average sensitivity: 0.8887596937482932\n",
      "average_specificity: 0.9486267023061344\n"
     ]
    }
   ],
   "source": [
    "##performance metrics for covid_pneumonia class\n",
    "\n",
    "tp = 116 # true positive\n",
    "tn = 264+324+7+18 # true negative\n",
    "fn = 2+22 # false negative\n",
    "fp = 5+22 # false positive\n",
    "\n",
    "\n",
    "precision_covid_resnet = tp/(tp+fp)\n",
    "sensitivity_covid_resnet = tp/(tp+fn)  #same as recall that we obtained from classification report\n",
    "print ('sensitivity for covid_pneumonia class:', sensitivity_covid_resnet)\n",
    "specificity_covid_resnet = tn/(fp+tn)\n",
    "print ('specificity for covid_pneumonia class:', specificity_covid_resnet)\n",
    "f1_covid_resnet = 2 * sensitivity_covid_resnet * precision_covid_resnet / (sensitivity_covid_resnet+precision_covid_resnet)\n",
    "\n",
    "\n",
    "##performance metrics for healthy class\n",
    "\n",
    "\n",
    "tp = 264  # true positive\n",
    "tn = 116+324+22+22  # true negative\n",
    "fn = 5+18  # false negative\n",
    "fp = 2+7  # false positive\n",
    "\n",
    "precision_healthy_resnet = tp/(tp+fp)\n",
    "sensitivity_healthy_resnet = tp/(tp+fn)  #same as recall that we obtained from classification report\n",
    "print ('sensitivity for healthy class:', sensitivity_healthy_resnet)\n",
    "specificity_healthy_resnet = tn/(fp+tn)\n",
    "print ('specificity for healthy class:', specificity_healthy_resnet)\n",
    "f1_healthy_resnet = 2 * sensitivity_healthy_resnet * precision_healthy_resnet / (sensitivity_healthy_resnet+precision_healthy_resnet)\n",
    "\n",
    "\n",
    "##performance metrics for pneumonia class\n",
    "\n",
    "tp = 324  # true positive\n",
    "tn = 116+264+2+5  # true negative\n",
    "fn = 7+22  # false negative\n",
    "fp = 22+18  # false positive\n",
    "\n",
    "precision_pneumonia_resnet = tp/(tp+fp)\n",
    "sensitivity_pneumonia_resnet = tp/(tp+fn)  #same as recall that we obtained from classification report\n",
    "print ('sensitivity for pneumonia class:', sensitivity_pneumonia_resnet)\n",
    "specificity_pneumonia_resnet = tn/(fp+tn)\n",
    "print ('specificity for pneumonia class:', specificity_pneumonia_resnet)\n",
    "f1_pneumonia_resnet = 2 * sensitivity_pneumonia_resnet * precision_pneumonia_resnet / (sensitivity_pneumonia_resnet+precision_pneumonia_resnet)\n",
    "\n",
    "\n",
    "average_sensitivity_resnet = (sensitivity_covid_resnet + sensitivity_healthy_resnet + sensitivity_pneumonia_resnet)/3\n",
    "print ('average sensitivity:', average_sensitivity_resnet)\n",
    "average_specificity_resnet = (specificity_covid_resnet + specificity_healthy_resnet + specificity_pneumonia_resnet)/3\n",
    "print ('average_specificity:', average_specificity_resnet)"
   ]
  },
  {
   "cell_type": "markdown",
   "metadata": {},
   "source": [
    "## Testing out with Test Images for ResNet"
   ]
  },
  {
   "cell_type": "code",
   "execution_count": 11,
   "metadata": {},
   "outputs": [
    {
     "name": "stdout",
     "output_type": "stream",
     "text": [
      "Image belongs to class : covid_pneumonia\n",
      "                   \n",
      "Predicting Probabilities for the image : [1.0000000e+00 1.5299803e-15 8.2539992e-13]\n",
      "     \n",
      "Most likely class: covid_pneumonia -- Probability: 0.99999964\n",
      "Second most likely class: pneumonia -- Probability: 3.4923772e-07\n",
      "Third most likely class: healthy -- Probability: 2.8324154e-11\n",
      "                     \n",
      "Image Predicted under class : covid_pneumonia\n",
      "-----------------------------------------------\n",
      "Image belongs to class : pneumonia\n",
      "                   \n",
      "Predicting Probabilities for the image : [7.5200344e-03 7.8920621e-08 9.9247992e-01]\n",
      "     \n",
      "Most likely class: pneumonia -- Probability: 0.9882933\n",
      "Second most likely class: healthy -- Probability: 0.0075926324\n",
      "Third most likely class: covid_pneumonia -- Probability: 0.0041140867\n",
      "                     \n",
      "Image Predicted under class : pneumonia\n",
      "-----------------------------------------------\n",
      "Image belongs to class : healthy\n",
      "                   \n",
      "Predicting Probabilities for the image : [1.5449710e-05 6.9539326e-01 3.0459130e-01]\n",
      "     \n",
      "Most likely class: healthy -- Probability: 0.947838\n",
      "Second most likely class: pneumonia -- Probability: 0.05204133\n",
      "Third most likely class: covid_pneumonia -- Probability: 0.00012070034\n",
      "                     \n",
      "Image Predicted under class : healthy\n",
      "-----------------------------------------------\n",
      "Image belongs to class : healthy\n",
      "                   \n",
      "Predicting Probabilities for the image : [6.0875955e-06 9.9695945e-01 3.0345216e-03]\n",
      "     \n",
      "Most likely class: healthy -- Probability: 0.99683905\n",
      "Second most likely class: pneumonia -- Probability: 0.0031557747\n",
      "Third most likely class: covid_pneumonia -- Probability: 5.081995e-06\n",
      "                     \n",
      "Image Predicted under class : healthy\n",
      "-----------------------------------------------\n",
      "Image belongs to class : covid_pneumonia\n",
      "                   \n",
      "Predicting Probabilities for the image : [9.9477059e-01 3.0900408e-06 5.2263532e-03]\n",
      "     \n",
      "Most likely class: covid_pneumonia -- Probability: 0.6093769\n",
      "Second most likely class: pneumonia -- Probability: 0.38402945\n",
      "Third most likely class: healthy -- Probability: 0.006593587\n",
      "                     \n",
      "Image Predicted under class : covid_pneumonia\n",
      "-----------------------------------------------\n",
      "Image belongs to class : covid_pneumonia\n",
      "                   \n",
      "Predicting Probabilities for the image : [9.8294514e-01 1.1589248e-04 1.6939027e-02]\n",
      "     \n",
      "Most likely class: covid_pneumonia -- Probability: 0.9917195\n",
      "Second most likely class: pneumonia -- Probability: 0.008274908\n",
      "Third most likely class: healthy -- Probability: 5.6016197e-06\n",
      "                     \n",
      "Image Predicted under class : covid_pneumonia\n",
      "-----------------------------------------------\n",
      "Image belongs to class : pneumonia\n",
      "                   \n",
      "Predicting Probabilities for the image : [2.2479765e-06 1.2654631e-09 9.9999774e-01]\n",
      "     \n",
      "Most likely class: pneumonia -- Probability: 0.8660099\n",
      "Second most likely class: healthy -- Probability: 0.1330183\n",
      "Third most likely class: covid_pneumonia -- Probability: 0.0009717964\n",
      "                     \n",
      "Image Predicted under class : pneumonia\n",
      "-----------------------------------------------\n",
      "Image belongs to class : covid_pneumonia\n",
      "                   \n",
      "Predicting Probabilities for the image : [0.00219208 0.0023563  0.9954516 ]\n",
      "     \n",
      "Most likely class: pneumonia -- Probability: 0.8128135\n",
      "Second most likely class: healthy -- Probability: 0.15931177\n",
      "Third most likely class: covid_pneumonia -- Probability: 0.027874714\n",
      "                     \n",
      "Image Predicted under class : pneumonia\n",
      "-----------------------------------------------\n",
      "Image belongs to class : pneumonia\n",
      "                   \n",
      "Predicting Probabilities for the image : [2.5796526e-06 8.9253549e-10 9.9999738e-01]\n",
      "     \n",
      "Most likely class: pneumonia -- Probability: 0.98413914\n",
      "Second most likely class: healthy -- Probability: 0.013193957\n",
      "Third most likely class: covid_pneumonia -- Probability: 0.002666966\n",
      "                     \n",
      "Image Predicted under class : pneumonia\n",
      "-----------------------------------------------\n",
      "Image belongs to class : pneumonia\n",
      "                   \n",
      "Predicting Probabilities for the image : [1.3945824e-07 2.7271870e-12 9.9999988e-01]\n",
      "     \n",
      "Most likely class: pneumonia -- Probability: 0.58865625\n",
      "Second most likely class: covid_pneumonia -- Probability: 0.28753155\n",
      "Third most likely class: healthy -- Probability: 0.12381218\n",
      "                     \n",
      "Image Predicted under class : pneumonia\n",
      "-----------------------------------------------\n"
     ]
    }
   ],
   "source": [
    "number_to_class = ['covid_pneumonia','healthy','pneumonia']\n",
    "resnet_classes = number_to_class\n",
    "\n",
    "#randomly displyaing probabilities of images\n",
    "for i in range(10):\n",
    "    \n",
    "    img = random.randrange(0, 779)\n",
    "    \n",
    "    print(\"Image belongs to class : \" + number_to_class[test_generator.classes[img]])\n",
    "    \n",
    "    \n",
    "    print(\"                   \")\n",
    "\n",
    "    print(\"Predicting Probabilities for the image : \" + str(probability_pred[img]))\n",
    "\n",
    "    index = np.argsort(probabilities_model[img])\n",
    "    print (\"     \")\n",
    "    print(\"Most likely class:\", number_to_class[index[2]], \"-- Probability:\", probabilities_model[img][index[2]])\n",
    "    print(\"Second most likely class:\", number_to_class[index[1]], \"-- Probability:\", probabilities_model[img][index[1]])\n",
    "    print(\"Third most likely class:\", number_to_class[index[0]], \"-- Probability:\", probabilities_model[img][index[0]])\n",
    "    \n",
    "    print(\"                     \")\n",
    "    print(\"Image Predicted under class : \" + number_to_class[index[2]])\n",
    "    print(\"-----------------------------------------------\")\n",
    "    \n",
    "#Most of the images have been correctly identified"
   ]
  },
  {
   "cell_type": "markdown",
   "metadata": {},
   "source": [
    "# Performance comparison and analysis"
   ]
  },
  {
   "cell_type": "markdown",
   "metadata": {},
   "source": [
    "- If you would like to run this part alone without the previous cells, you must uncomment and run the next cell first"
   ]
  },
  {
   "cell_type": "code",
   "execution_count": 12,
   "metadata": {},
   "outputs": [],
   "source": [
    "# import matplotlib.pyplot as plt\n",
    "# import numpy as np\n",
    "# import pandas as pd\n",
    "\n",
    "# accuracy_vgg =  0.8512820601463318\n",
    "# loss_vgg = 0.3756211996078491\n",
    "# auc_vgg = 0.9600518835216194\n",
    "# kappa_vgg = 0.7656656695544074\n",
    "\n",
    "# accuracy_resnet = 0.9025641083717346\n",
    "# loss_resnet = 0.4540766477584839\n",
    "# kappa_Resnet = 0.8446284370847388\n",
    "# auc_Resnet = 0.9737513320347911\n",
    "# precision_covid_vgg = 0.74\n",
    "# sensitivity_covid_vgg = 0.7928571428571428\n",
    "# specificity_covid_vgg = 0.940625\n",
    "# f1_covid_vgg = 0.77\n",
    "\n",
    "\n",
    "# precision_healthy_vgg = 0.85\n",
    "# sensitivity_healthy_vgg = 0.9616724738675958\n",
    "# specificity_healthy_vgg = 0.9046653144016227\n",
    "# f1_healthy_vgg = 0.90\n",
    "\n",
    "# precision_pneumonia_vgg = 0.90\n",
    "# sensitivity_pneumonia_vgg = 0.7847025495750708\n",
    "# specificity_pneumonia_vgg = 0.927400468384075\n",
    "# f1_pneumonia_vgg = 0.84\n",
    "\n",
    "# precision_covid_resnet = 0.81\n",
    "# sensitivity_covid_resnet = 0.8285714285714286\n",
    "# specificity_covid_resnet = 0.9578125\n",
    "# f1_covid_resnet = 0.82\n",
    "\n",
    "\n",
    "# precision_healthy_resnet = 0.97\n",
    "# sensitivity_healthy_resnet = 0.9198606271777003\n",
    "# specificity_healthy_resnet = 0.9817444219066938\n",
    "# f1_healthy_resnet = 0.94\n",
    "\n",
    "# precision_pneumonia_resnet = 0.89\n",
    "# sensitivity_pneumonia_resnet = 0.9178470254957507\n",
    "# specificity_pneumonia_resnet = 0.9063231850117096\n",
    "# f1_pneumonia_resnet = 0.90\n",
    "\n",
    "# vgg_confusion_matrix = [[111, 7, 22],\n",
    "#                         [2, 276,  9],\n",
    "#                         [36, 40, 277]]\n",
    "\n",
    "# vgg_classes = ['covid_pneumonia','healthy','pneumonia']\n",
    "\n",
    "# resnet_confusion_matrix = [[116, 2,  22],\n",
    "#                            [5, 264, 18],\n",
    "#                            [22, 7, 324]]\n",
    "\n",
    "# resnet_classes = [\"covid_pneumonia\", \"healthy\", \"pneumonia\"]"
   ]
  },
  {
   "cell_type": "markdown",
   "metadata": {},
   "source": [
    "## Class Level Comparison"
   ]
  },
  {
   "cell_type": "code",
   "execution_count": 13,
   "metadata": {},
   "outputs": [],
   "source": [
    "# Creating a dictionary of metrics for the vgg model\n",
    "vgg_class_level_scores = {\n",
    "    \"covid_pneumonia\": [precision_covid_vgg, specificity_covid_vgg, sensitivity_covid_vgg, f1_covid_vgg],\n",
    "    \"healthy\": [precision_healthy_vgg, specificity_healthy_vgg, sensitivity_healthy_vgg, f1_healthy_vgg],\n",
    "    \"pneumonia\": [precision_pneumonia_vgg, specificity_pneumonia_vgg, sensitivity_pneumonia_vgg, f1_pneumonia_vgg]\n",
    "}\n",
    "# Creating a classification report for the vgg model\n",
    "vgg_df = pd.DataFrame(vgg_class_level_scores, index=[\"Precision\", \"Specificity\", \"Sensitivity (a.k.a Recall)\",\"F1\"])"
   ]
  },
  {
   "cell_type": "code",
   "execution_count": 14,
   "metadata": {},
   "outputs": [],
   "source": [
    "# Creating a dictionary of metrics for the resnet model\n",
    "\n",
    "resnet_class_level_scores = {\n",
    "    \"covid_pneumonia\": [precision_covid_resnet, specificity_covid_resnet, sensitivity_covid_resnet, f1_covid_resnet],\n",
    "    \"healthy\": [precision_healthy_resnet, specificity_healthy_resnet, sensitivity_healthy_resnet, f1_healthy_resnet],\n",
    "    \"pneumonia\": [precision_pneumonia_resnet, specificity_pneumonia_resnet, sensitivity_pneumonia_resnet, f1_pneumonia_resnet]\n",
    "}\n",
    "# Creating a classification report for the resnet model\n",
    "resnet_df = pd.DataFrame(resnet_class_level_scores, index=[\"Precision\", \"Specificity\", \"Sensitivity (a.k.a Recall)\",\"F1\"])"
   ]
  },
  {
   "cell_type": "code",
   "execution_count": 15,
   "metadata": {},
   "outputs": [
    {
     "data": {
      "text/html": [
       "<style  type=\"text/css\" >\n",
       "    #T_bcbb47b0_1823_11eb_90f0_74d83ee38c75row0_col0 {\n",
       "            background-color:  #fff7fb;\n",
       "            color:  #000000;\n",
       "        }    #T_bcbb47b0_1823_11eb_90f0_74d83ee38c75row0_col1 {\n",
       "            background-color:  #89b1d4;\n",
       "            color:  #000000;\n",
       "        }    #T_bcbb47b0_1823_11eb_90f0_74d83ee38c75row0_col2 {\n",
       "            background-color:  #04639b;\n",
       "            color:  #f1f1f1;\n",
       "        }    #T_bcbb47b0_1823_11eb_90f0_74d83ee38c75row0_col3 {\n",
       "            background-color:  #fff7fb;\n",
       "            color:  #000000;\n",
       "        }    #T_bcbb47b0_1823_11eb_90f0_74d83ee38c75row0_col4 {\n",
       "            background-color:  #056dac;\n",
       "            color:  #f1f1f1;\n",
       "        }    #T_bcbb47b0_1823_11eb_90f0_74d83ee38c75row0_col5 {\n",
       "            background-color:  #fff7fb;\n",
       "            color:  #000000;\n",
       "        }    #T_bcbb47b0_1823_11eb_90f0_74d83ee38c75row1_col0 {\n",
       "            background-color:  #023858;\n",
       "            color:  #f1f1f1;\n",
       "        }    #T_bcbb47b0_1823_11eb_90f0_74d83ee38c75row1_col1 {\n",
       "            background-color:  #167bb6;\n",
       "            color:  #000000;\n",
       "        }    #T_bcbb47b0_1823_11eb_90f0_74d83ee38c75row1_col2 {\n",
       "            background-color:  #023858;\n",
       "            color:  #f1f1f1;\n",
       "        }    #T_bcbb47b0_1823_11eb_90f0_74d83ee38c75row1_col3 {\n",
       "            background-color:  #023858;\n",
       "            color:  #f1f1f1;\n",
       "        }    #T_bcbb47b0_1823_11eb_90f0_74d83ee38c75row1_col4 {\n",
       "            background-color:  #023858;\n",
       "            color:  #f1f1f1;\n",
       "        }    #T_bcbb47b0_1823_11eb_90f0_74d83ee38c75row1_col5 {\n",
       "            background-color:  #4a98c5;\n",
       "            color:  #000000;\n",
       "        }    #T_bcbb47b0_1823_11eb_90f0_74d83ee38c75row2_col0 {\n",
       "            background-color:  #d2d2e7;\n",
       "            color:  #000000;\n",
       "        }    #T_bcbb47b0_1823_11eb_90f0_74d83ee38c75row2_col1 {\n",
       "            background-color:  #023858;\n",
       "            color:  #f1f1f1;\n",
       "        }    #T_bcbb47b0_1823_11eb_90f0_74d83ee38c75row2_col2 {\n",
       "            background-color:  #f0eaf4;\n",
       "            color:  #000000;\n",
       "        }    #T_bcbb47b0_1823_11eb_90f0_74d83ee38c75row2_col3 {\n",
       "            background-color:  #ede8f3;\n",
       "            color:  #000000;\n",
       "        }    #T_bcbb47b0_1823_11eb_90f0_74d83ee38c75row2_col4 {\n",
       "            background-color:  #fff7fb;\n",
       "            color:  #000000;\n",
       "        }    #T_bcbb47b0_1823_11eb_90f0_74d83ee38c75row2_col5 {\n",
       "            background-color:  #023858;\n",
       "            color:  #f1f1f1;\n",
       "        }    #T_bcbb47b0_1823_11eb_90f0_74d83ee38c75row3_col0 {\n",
       "            background-color:  #ede8f3;\n",
       "            color:  #000000;\n",
       "        }    #T_bcbb47b0_1823_11eb_90f0_74d83ee38c75row3_col1 {\n",
       "            background-color:  #fff7fb;\n",
       "            color:  #000000;\n",
       "        }    #T_bcbb47b0_1823_11eb_90f0_74d83ee38c75row3_col2 {\n",
       "            background-color:  #fff7fb;\n",
       "            color:  #000000;\n",
       "        }    #T_bcbb47b0_1823_11eb_90f0_74d83ee38c75row3_col3 {\n",
       "            background-color:  #f6eff7;\n",
       "            color:  #000000;\n",
       "        }    #T_bcbb47b0_1823_11eb_90f0_74d83ee38c75row3_col4 {\n",
       "            background-color:  #a7bddb;\n",
       "            color:  #000000;\n",
       "        }    #T_bcbb47b0_1823_11eb_90f0_74d83ee38c75row3_col5 {\n",
       "            background-color:  #76aad0;\n",
       "            color:  #000000;\n",
       "        }</style><table id=\"T_bcbb47b0_1823_11eb_90f0_74d83ee38c75\" ><thead>    <tr>        <th class=\"blank level0\" ></th>        <th class=\"col_heading level0 col0\" colspan=3>VGG</th>        <th class=\"col_heading level0 col3\" colspan=3>ResNet</th>    </tr>    <tr>        <th class=\"blank level1\" ></th>        <th class=\"col_heading level1 col0\" >covid_pneumonia</th>        <th class=\"col_heading level1 col1\" >healthy</th>        <th class=\"col_heading level1 col2\" >pneumonia</th>        <th class=\"col_heading level1 col3\" >covid_pneumonia</th>        <th class=\"col_heading level1 col4\" >healthy</th>        <th class=\"col_heading level1 col5\" >pneumonia</th>    </tr>    <tr>        <th class=\"index_name level0\" >Metric</th>        <th class=\"blank\" ></th>        <th class=\"blank\" ></th>        <th class=\"blank\" ></th>        <th class=\"blank\" ></th>        <th class=\"blank\" ></th>        <th class=\"blank\" ></th>    </tr></thead><tbody>\n",
       "                <tr>\n",
       "                        <th id=\"T_bcbb47b0_1823_11eb_90f0_74d83ee38c75level0_row0\" class=\"row_heading level0 row0\" >Precision</th>\n",
       "                        <td id=\"T_bcbb47b0_1823_11eb_90f0_74d83ee38c75row0_col0\" class=\"data row0 col0\" >0.744966</td>\n",
       "                        <td id=\"T_bcbb47b0_1823_11eb_90f0_74d83ee38c75row0_col1\" class=\"data row0 col1\" >0.854489</td>\n",
       "                        <td id=\"T_bcbb47b0_1823_11eb_90f0_74d83ee38c75row0_col2\" class=\"data row0 col2\" >0.899351</td>\n",
       "                        <td id=\"T_bcbb47b0_1823_11eb_90f0_74d83ee38c75row0_col3\" class=\"data row0 col3\" >0.811189</td>\n",
       "                        <td id=\"T_bcbb47b0_1823_11eb_90f0_74d83ee38c75row0_col4\" class=\"data row0 col4\" >0.967033</td>\n",
       "                        <td id=\"T_bcbb47b0_1823_11eb_90f0_74d83ee38c75row0_col5\" class=\"data row0 col5\" >0.890110</td>\n",
       "            </tr>\n",
       "            <tr>\n",
       "                        <th id=\"T_bcbb47b0_1823_11eb_90f0_74d83ee38c75level0_row1\" class=\"row_heading level0 row1\" >Specificity</th>\n",
       "                        <td id=\"T_bcbb47b0_1823_11eb_90f0_74d83ee38c75row1_col0\" class=\"data row1 col0\" >0.940625</td>\n",
       "                        <td id=\"T_bcbb47b0_1823_11eb_90f0_74d83ee38c75row1_col1\" class=\"data row1 col1\" >0.904665</td>\n",
       "                        <td id=\"T_bcbb47b0_1823_11eb_90f0_74d83ee38c75row1_col2\" class=\"data row1 col2\" >0.927400</td>\n",
       "                        <td id=\"T_bcbb47b0_1823_11eb_90f0_74d83ee38c75row1_col3\" class=\"data row1 col3\" >0.957812</td>\n",
       "                        <td id=\"T_bcbb47b0_1823_11eb_90f0_74d83ee38c75row1_col4\" class=\"data row1 col4\" >0.981744</td>\n",
       "                        <td id=\"T_bcbb47b0_1823_11eb_90f0_74d83ee38c75row1_col5\" class=\"data row1 col5\" >0.906323</td>\n",
       "            </tr>\n",
       "            <tr>\n",
       "                        <th id=\"T_bcbb47b0_1823_11eb_90f0_74d83ee38c75level0_row2\" class=\"row_heading level0 row2\" >Sensitivity (a.k.a Recall)</th>\n",
       "                        <td id=\"T_bcbb47b0_1823_11eb_90f0_74d83ee38c75row2_col0\" class=\"data row2 col0\" >0.792857</td>\n",
       "                        <td id=\"T_bcbb47b0_1823_11eb_90f0_74d83ee38c75row2_col1\" class=\"data row2 col1\" >0.961672</td>\n",
       "                        <td id=\"T_bcbb47b0_1823_11eb_90f0_74d83ee38c75row2_col2\" class=\"data row2 col2\" >0.784703</td>\n",
       "                        <td id=\"T_bcbb47b0_1823_11eb_90f0_74d83ee38c75row2_col3\" class=\"data row2 col3\" >0.828571</td>\n",
       "                        <td id=\"T_bcbb47b0_1823_11eb_90f0_74d83ee38c75row2_col4\" class=\"data row2 col4\" >0.919861</td>\n",
       "                        <td id=\"T_bcbb47b0_1823_11eb_90f0_74d83ee38c75row2_col5\" class=\"data row2 col5\" >0.917847</td>\n",
       "            </tr>\n",
       "            <tr>\n",
       "                        <th id=\"T_bcbb47b0_1823_11eb_90f0_74d83ee38c75level0_row3\" class=\"row_heading level0 row3\" >F1</th>\n",
       "                        <td id=\"T_bcbb47b0_1823_11eb_90f0_74d83ee38c75row3_col0\" class=\"data row3 col0\" >0.768166</td>\n",
       "                        <td id=\"T_bcbb47b0_1823_11eb_90f0_74d83ee38c75row3_col1\" class=\"data row3 col1\" >0.768166</td>\n",
       "                        <td id=\"T_bcbb47b0_1823_11eb_90f0_74d83ee38c75row3_col2\" class=\"data row3 col2\" >0.768166</td>\n",
       "                        <td id=\"T_bcbb47b0_1823_11eb_90f0_74d83ee38c75row3_col3\" class=\"data row3 col3\" >0.819788</td>\n",
       "                        <td id=\"T_bcbb47b0_1823_11eb_90f0_74d83ee38c75row3_col4\" class=\"data row3 col4\" >0.942857</td>\n",
       "                        <td id=\"T_bcbb47b0_1823_11eb_90f0_74d83ee38c75row3_col5\" class=\"data row3 col5\" >0.903766</td>\n",
       "            </tr>\n",
       "    </tbody></table>"
      ],
      "text/plain": [
       "<pandas.io.formats.style.Styler at 0x29e2cf7e760>"
      ]
     },
     "execution_count": 15,
     "metadata": {},
     "output_type": "execute_result"
    }
   ],
   "source": [
    "# concatenating the classification reports of vgg and resnet models\n",
    "results_df = pd.concat([vgg_df, resnet_df], axis=1, keys=('VGG','ResNet'))\n",
    "results_df.index.name = \"Metric\"\n",
    "results_df.style.background_gradient()"
   ]
  },
  {
   "cell_type": "markdown",
   "metadata": {},
   "source": [
    "# Reporting results in a visually informative way"
   ]
  },
  {
   "cell_type": "markdown",
   "metadata": {},
   "source": [
    "## Overall Performance"
   ]
  },
  {
   "cell_type": "code",
   "execution_count": 16,
   "metadata": {},
   "outputs": [],
   "source": [
    "# creating a dictionary of overall performance for the vgg model\n",
    "vgg_performance = {\n",
    "    \"Accuracy\": accuracy_vgg,\n",
    "    \"Loss\": loss_vgg,\n",
    "    \"ROC_AUC\": auc_vgg,\n",
    "    \"Kappa_Coefficient\": kappa_vgg\n",
    "}\n",
    "# creating a dictionary of overall performance for the resnet model\n",
    "resnet_performance = {\n",
    "    \"Accuracy\":accuracy_resnet,\n",
    "    \"Loss\": loss_resnet,\n",
    "    \"ROC_AUC\": auc_Resnet,\n",
    "    \"Kappa_Coefficient\": kappa_Resnet\n",
    "}"
   ]
  },
  {
   "cell_type": "code",
   "execution_count": 17,
   "metadata": {
    "scrolled": false
   },
   "outputs": [
    {
     "data": {
      "image/png": "[encoded data removed]",
      "text/plain": [
       "<Figure size 864x504 with 1 Axes>"
      ]
     },
     "metadata": {
      "needs_background": "light"
     },
     "output_type": "display_data"
    }
   ],
   "source": [
    "labels= [\"Accuracy\", \"Loss\", \"ROC_AUC\", \"Kappa_Coefficient\"]\n",
    "vgg_values = [vgg_performance[m] for m in labels] # getting the value of each metric for vgg\n",
    "resnet_values = [resnet_performance[m] for m in labels] # getting the value of each metric for resnet\n",
    "\n",
    "fig, ax = plt.subplots(figsize=(12,7))\n",
    "x = np.arange(len(labels))  # the label locations\n",
    "width = 0.35  # the width of the bars\n",
    "ax.set_xticks(x)  # setting x-axis ticks\n",
    "ax.set_xticklabels(labels) # setting the labels on x-axis ticks\n",
    "rects1 = ax.bar(x - width/2, vgg_values, width, label='VGG')  # plotting vgg performance bars\n",
    "rects2 = ax.bar(x + width/2, resnet_values, width, label='ResNet') # plotting resnet performance bars\n",
    "for i in ax.patches:  # adding annotations to the bars\n",
    "    ax.text(i.get_x()+0.02, i.get_height()-0.05, str(round(100*i.get_height(),2))+'%', color='white', fontsize=13)\n",
    "\n",
    "ax.set_ylabel('Scores')  # setting y-axis label\n",
    "ax.set_title('Performance Scores of VGG and ResNet models') # setting the title\n",
    "ax.legend() # showing the legend of the graph\n",
    "plt.show()"
   ]
  },
  {
   "cell_type": "code",
   "execution_count": 18,
   "metadata": {},
   "outputs": [
    {
     "data": {
      "image/png": "[encoded data removed]",
      "text/plain": [
       "<Figure size 1152x1152 with 4 Axes>"
      ]
     },
     "metadata": {
      "needs_background": "light"
     },
     "output_type": "display_data"
    }
   ],
   "source": [
    "labels= [\"covid_pneumonia\", \"healthy\", \"pneumonia\"]\n",
    "# precision\n",
    "vgg_values_p = [vgg_class_level_scores[m][0] for m in labels] # getting the value of precision (at index 0) for vgg\n",
    "resnet_values_p = [resnet_class_level_scores[m][0] for m in labels]  # getting the value of precision (at index 0) for resnet\n",
    "\n",
    "# specificity\n",
    "vgg_values_s = [vgg_class_level_scores[m][1] for m in labels]  # getting the value of specificity (at index 1) for vgg\n",
    "resnet_values_s = [resnet_class_level_scores[m][1] for m in labels]  # getting the value of specificity (at index 1) for resnet\n",
    "\n",
    "# sensitivity (a.k.a recall)\n",
    "vgg_values_r = [vgg_class_level_scores[m][2] for m in labels]  # getting the value of sensitivity (at index 2) for vgg\n",
    "resnet_values_r = [resnet_class_level_scores[m][2] for m in labels] # getting the value of sensitivity (at index 2) for resnet\n",
    "\n",
    "# F1\n",
    "vgg_values_f1 = [vgg_class_level_scores[m][3] for m in labels]  # getting the value of f1 (at index 3) for vgg\n",
    "resnet_values_f1 = [resnet_class_level_scores[m][3] for m in labels] # # getting the value of f1 (at index 3) for resnet\n",
    "\n",
    "fig, ax = plt.subplots(nrows=2, ncols=2, figsize=(16,16))  # setting up graphs grid (2x2)\n",
    "x = np.arange(len(labels))  # defining the x-axis ticks, which are the label locations\n",
    "width = 0.35  # the width of the bars\n",
    "\n",
    "# Precision graphs\n",
    "ax[0, 0].bar(x - width/2, vgg_values_p, width, label='VGG')\n",
    "ax[0, 0].bar(x + width/2, resnet_values_p, width, label='ResNet')\n",
    "ax[0, 0].set_ylabel('Precision')\n",
    "ax[0, 0].set_title(\"Precision\")\n",
    "\n",
    "# Specificity graphs\n",
    "ax[0, 1].bar(x - width/2, vgg_values_p, width, label='VGG')\n",
    "ax[0, 1].bar(x + width/2, resnet_values_p, width, label='ResNet')\n",
    "ax[0, 1].set_ylabel('Specificity')\n",
    "ax[0, 1].set_title(\"Specificity\")\n",
    "\n",
    "# Recall graphs\n",
    "ax[1, 0].bar(x - width/2, vgg_values_r, width, label='VGG')\n",
    "ax[1, 0].bar(x + width/2, resnet_values_r, width, label='ResNet')\n",
    "ax[1, 0].set_ylabel('Sensitivity')\n",
    "ax[1, 0].set_title(\"Sensitivity (a.k.a Recall)\")\n",
    "\n",
    "# F1 graphs\n",
    "ax[1, 1].bar(x - width/2, vgg_values_f1, width, label='VGG')\n",
    "ax[1, 1].bar(x + width/2, resnet_values_f1, width, label='ResNet')\n",
    "ax[1, 1].set_ylabel('F1')\n",
    "ax[1, 1].set_title('F1')\n",
    "\n",
    "for i in range(2):\n",
    "    for j in range(2):  # setting up xticks and xitcks labels for each graph\n",
    "        ax[i, j].set_xticks(x)\n",
    "        ax[i, j].set_xticklabels(labels)\n",
    "        ax[i, j].legend() # showing the legend\n",
    "        for b in ax[i, j].patches: # adding annotations (metrics values) to the bars\n",
    "            ax[i, j].text(b.get_x(), b.get_height()-0.05, str(round(100*b.get_height(),2))+'%', color='white', fontsize=13)\n",
    "fig.suptitle('Performance Scores of VGG and ResNet Per Class') # adding the title\n",
    "plt.show()"
   ]
  },
  {
   "cell_type": "markdown",
   "metadata": {},
   "source": [
    "## Macro Average Performance"
   ]
  },
  {
   "cell_type": "code",
   "execution_count": 19,
   "metadata": {},
   "outputs": [],
   "source": [
    "# calculating the average of each metric for each model over all classes (i.e. macro average)\n",
    "vgg_precision = np.mean([vgg_class_level_scores[m][0] for m in labels])\n",
    "vgg_specificity = np.mean([vgg_class_level_scores[m][1] for m in labels])\n",
    "vgg_sensitivity = np.mean([vgg_class_level_scores[m][2] for m in labels])\n",
    "vgg_f1 = np.mean([vgg_class_level_scores[m][3] for m in labels])\n",
    "\n",
    "resnet_precision = np.mean([resnet_class_level_scores[m][0] for m in labels])\n",
    "resnet_specificity = np.mean([resnet_class_level_scores[m][1] for m in labels])\n",
    "resnet_sensitivity = np.mean([resnet_class_level_scores[m][2] for m in labels])\n",
    "resnet_f1 = np.mean([resnet_class_level_scores[m][3] for m in labels])"
   ]
  },
  {
   "cell_type": "code",
   "execution_count": 20,
   "metadata": {},
   "outputs": [
    {
     "data": {
      "image/png": "[encoded data removed]",
      "text/plain": [
       "<Figure size 864x504 with 1 Axes>"
      ]
     },
     "metadata": {
      "needs_background": "light"
     },
     "output_type": "display_data"
    }
   ],
   "source": [
    "labels = [\"Precision\", \"Specificity\", \"Sensitivity\", \"F1\"]\n",
    "vgg_values = [vgg_precision, vgg_specificity, vgg_sensitivity, vgg_f1]\n",
    "resnet_values = [resnet_precision, resnet_specificity, resnet_sensitivity, resnet_f1]\n",
    "\n",
    "fig, ax = plt.subplots(figsize=(12, 7))\n",
    "x = np.arange(len(labels))  # the label locations\n",
    "width = 0.35  # the width of the bars\n",
    "ax.set_xticks(x)\n",
    "ax.set_xticklabels(labels)\n",
    "rects1 = ax.bar(x - width/2, vgg_values, width, label='VGG')\n",
    "rects2 = ax.bar(x + width/2, resnet_values, width, label='ResNet')\n",
    "for i in ax.patches:\n",
    "    ax.text(i.get_x()+0.02, i.get_height()-0.05, str(round(100*i.get_height(),2))+'%', color='white', fontsize=13)\n",
    "\n",
    "ax.set_ylabel('Scores')\n",
    "ax.set_title('Macro Average Scores of VGG and ResNet models')\n",
    "ax.legend()\n",
    "plt.show()"
   ]
  },
  {
   "cell_type": "markdown",
   "metadata": {},
   "source": [
    "## Confusion Matrix"
   ]
  },
  {
   "cell_type": "code",
   "execution_count": 21,
   "metadata": {},
   "outputs": [],
   "source": [
    "import seaborn as sns"
   ]
  },
  {
   "cell_type": "code",
   "execution_count": 22,
   "metadata": {},
   "outputs": [],
   "source": [
    "def plot_confusion_matrix(matrix, classes, model_name):\n",
    "    plt.subplots(figsize=(16, 9))\n",
    "     # converting the confusion matrix into a dataframe so that the heatmap reads the class labels automatically\n",
    "    confusion_df = pd.DataFrame(matrix)\n",
    "    confusion_df.columns = classes # setting colum names to classes in the confusion matrix dataframe\n",
    "    confusion_df.index = classes # setting the index to classes in the confusion matrix dataframe\n",
    "    # creating a heatmap for the confusion matrix\n",
    "    ax = sns.heatmap(confusion_df, cmap='coolwarm', annot=True, fmt=\"d\", annot_kws={'size':16})\n",
    "    # putting x-axis labels at top\n",
    "    ax.xaxis.tick_top()\n",
    "    ax.set_yticklabels(ax.get_ymajorticklabels(), fontsize = 14)\n",
    "    ax.set_xticklabels(ax.get_xmajorticklabels(), fontsize = 14)\n",
    "    ax.set_title(\"Confusion Matrix for \"+model_name+'\\n', fontsize=22)\n",
    "    plt.show()"
   ]
  },
  {
   "cell_type": "code",
   "execution_count": 23,
   "metadata": {},
   "outputs": [
    {
     "data": {
      "image/png": "[encoded data removed]",
      "text/plain": [
       "<Figure size 1152x648 with 2 Axes>"
      ]
     },
     "metadata": {
      "needs_background": "light"
     },
     "output_type": "display_data"
    }
   ],
   "source": [
    "plot_confusion_matrix(np.array(vgg_confusion_matrix), vgg_classes, \"VGG\")"
   ]
  },
  {
   "cell_type": "code",
   "execution_count": 24,
   "metadata": {},
   "outputs": [
    {
     "data": {
      "image/png": "[encoded data removed]",
      "text/plain": [
       "<Figure size 1152x648 with 2 Axes>"
      ]
     },
     "metadata": {
      "needs_background": "light"
     },
     "output_type": "display_data"
    }
   ],
   "source": [
    "plot_confusion_matrix(np.array(resnet_confusion_matrix), resnet_classes, \"ResNet\")"
   ]
  }
 ],
 "metadata": {
  "hide_input": false,
  "kernelspec": {
   "display_name": "Python 3",
   "language": "python",
   "name": "python3"
  },
  "language_info": {
   "codemirror_mode": {
    "name": "ipython",
    "version": 3
   },
   "file_extension": ".py",
   "mimetype": "text/x-python",
   "name": "python",
   "nbconvert_exporter": "python",
   "pygments_lexer": "ipython3",
   "version": "3.8.3"
  },
  "toc": {
   "base_numbering": 1,
   "nav_menu": {},
   "number_sections": false,
   "sideBar": true,
   "skip_h1_title": false,
   "title_cell": "Table of Contents",
   "title_sidebar": "Contents",
   "toc_cell": false,
   "toc_position": {},
   "toc_section_display": true,
   "toc_window_display": false
  }
 },
 "nbformat": 4,
 "nbformat_minor": 4
}
