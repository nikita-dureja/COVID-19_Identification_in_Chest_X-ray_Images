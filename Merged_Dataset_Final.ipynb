{
 "cells": [
  {
   "cell_type": "code",
   "execution_count": 1,
   "metadata": {},
   "outputs": [],
   "source": [
    "import pandas as pd"
   ]
  },
  {
   "cell_type": "markdown",
   "metadata": {},
   "source": [
    "### Checking Single Datasets for Duplicate Entries"
   ]
  },
  {
   "cell_type": "code",
   "execution_count": 4,
   "metadata": {},
   "outputs": [
    {
     "data": {
      "text/plain": [
       "(1345, 6)"
      ]
     },
     "execution_count": 4,
     "metadata": {},
     "output_type": "execute_result"
    }
   ],
   "source": [
    "pneumonia = pd.read_excel(\"Viral Pneumonia.matadata.xlsx\").assign(label=\"non-covid-19 pneumonia\", view=\"AP\")\n",
    "pneumonia.shape"
   ]
  },
  {
   "cell_type": "code",
   "execution_count": null,
   "metadata": {},
   "outputs": [],
   "source": [
    "pneumonia_dropped = pneumonia.drop_duplicates()\n",
    "pneumonia_dropped.shape"
   ]
  },
  {
   "cell_type": "code",
   "execution_count": 5,
   "metadata": {},
   "outputs": [
    {
     "data": {
      "text/plain": [
       "(219, 6)"
      ]
     },
     "execution_count": 5,
     "metadata": {},
     "output_type": "execute_result"
    }
   ],
   "source": [
    "covid19 = pd.read_excel(\"COVID-19.metadata.xlsx\").assign(label=\"covid-19 pneumonia\",view=\"AP\")\n",
    "covid19.shape"
   ]
  },
  {
   "cell_type": "code",
   "execution_count": 6,
   "metadata": {},
   "outputs": [
    {
     "data": {
      "text/plain": [
       "(219, 6)"
      ]
     },
     "execution_count": 6,
     "metadata": {},
     "output_type": "execute_result"
    }
   ],
   "source": [
    "covid19_dropped = covid19.drop_duplicates()\n",
    "covid19.shape"
   ]
  },
  {
   "cell_type": "code",
   "execution_count": 7,
   "metadata": {},
   "outputs": [
    {
     "data": {
      "text/plain": [
       "(1341, 6)"
      ]
     },
     "execution_count": 7,
     "metadata": {},
     "output_type": "execute_result"
    }
   ],
   "source": [
    "normal = pd.read_excel(\"NORMAL.metadata.xlsx\").assign(label=\"non-infection\", view=\"AP\")\n",
    "normal.shape"
   ]
  },
  {
   "cell_type": "code",
   "execution_count": 8,
   "metadata": {},
   "outputs": [
    {
     "data": {
      "text/plain": [
       "(1341, 6)"
      ]
     },
     "execution_count": 8,
     "metadata": {},
     "output_type": "execute_result"
    }
   ],
   "source": [
    "normal_dropped = normal.drop_duplicates()\n",
    "normal_dropped.shape"
   ]
  },
  {
   "cell_type": "code",
   "execution_count": 12,
   "metadata": {},
   "outputs": [
    {
     "data": {
      "text/plain": [
       "(930, 29)"
      ]
     },
     "execution_count": 12,
     "metadata": {},
     "output_type": "execute_result"
    }
   ],
   "source": [
    "chest = pd.read_csv(\"covid_chestxray_metadata.csv\")\n",
    "chest.shape"
   ]
  },
  {
   "cell_type": "code",
   "execution_count": 13,
   "metadata": {},
   "outputs": [
    {
     "data": {
      "text/plain": [
       "(930, 29)"
      ]
     },
     "execution_count": 13,
     "metadata": {},
     "output_type": "execute_result"
    }
   ],
   "source": [
    "chest_dropped = chest.drop_duplicates()\n",
    "chest_dropped.shape"
   ]
  },
  {
   "cell_type": "code",
   "execution_count": 14,
   "metadata": {},
   "outputs": [
    {
     "data": {
      "text/plain": [
       "(55, 12)"
      ]
     },
     "execution_count": 14,
     "metadata": {},
     "output_type": "execute_result"
    }
   ],
   "source": [
    "figure1 = pd.read_csv(\"figure1_covid_chestxray_metadata.csv\", encoding='iso-8859-1')\n",
    "figure1.shape"
   ]
  },
  {
   "cell_type": "code",
   "execution_count": 15,
   "metadata": {},
   "outputs": [
    {
     "data": {
      "text/plain": [
       "(55, 12)"
      ]
     },
     "execution_count": 15,
     "metadata": {},
     "output_type": "execute_result"
    }
   ],
   "source": [
    "figure1_dropped = figure1.drop_duplicates()\n",
    "figure1_dropped.shape"
   ]
  },
  {
   "cell_type": "code",
   "execution_count": 17,
   "metadata": {},
   "outputs": [
    {
     "data": {
      "text/plain": [
       "(238, 13)"
      ]
     },
     "execution_count": 17,
     "metadata": {},
     "output_type": "execute_result"
    }
   ],
   "source": [
    "actual_med = pd.read_csv(\"actualmed_covid_chestxray_metadata.csv\")\n",
    "actual_med.shape"
   ]
  },
  {
   "cell_type": "code",
   "execution_count": 18,
   "metadata": {},
   "outputs": [
    {
     "data": {
      "text/plain": [
       "(238, 13)"
      ]
     },
     "execution_count": 18,
     "metadata": {},
     "output_type": "execute_result"
    }
   ],
   "source": [
    "actual_med_dropped = actual_med.drop_duplicates()\n",
    "actual_med_dropped.shape"
   ]
  },
  {
   "cell_type": "markdown",
   "metadata": {},
   "source": [
    "### Checking Duplicate Values between the datasets"
   ]
  },
  {
   "cell_type": "code",
   "execution_count": 19,
   "metadata": {},
   "outputs": [
    {
     "name": "stdout",
     "output_type": "stream",
     "text": [
      "0\n",
      "1803645\n",
      "0\n"
     ]
    }
   ],
   "source": [
    "counta = 0\n",
    "countb = 0\n",
    "countc = 0\n",
    "for i in pneumonia.index:\n",
    "    link = pneumonia['URL'][i]\n",
    "    for a in covid19.index:\n",
    "        if(covid19['URL'][a] == link):\n",
    "             counta += 1\n",
    "\n",
    "for i in pneumonia.index:\n",
    "    link = pneumonia['URL'][i]    \n",
    "    for b in normal.index:\n",
    "        if(normal['URL'][b] == link):\n",
    "             countb += 1\n",
    "\n",
    "for i in pneumonia.index:\n",
    "    link = pneumonia['URL'][i]\n",
    "    for c in chest.index:\n",
    "        if(chest['url'][c] == link):\n",
    "             countc += 1\n",
    "\n",
    "print (counta)\n",
    "print (countb)\n",
    "print (countc)\n",
    "   \n",
    "        "
   ]
  },
  {
   "cell_type": "markdown",
   "metadata": {},
   "source": [
    "## The above result shows the similar url from pneumonia compared to every other dataset, normal shows this many figures because every links are similar in both dataset."
   ]
  },
  {
   "cell_type": "markdown",
   "metadata": {},
   "source": [
    "## The below result shows similar values in dataset covid19 and chest xray."
   ]
  },
  {
   "cell_type": "code",
   "execution_count": 20,
   "metadata": {},
   "outputs": [
    {
     "name": "stdout",
     "output_type": "stream",
     "text": [
      "0\n",
      "487\n"
     ]
    }
   ],
   "source": [
    "duplicate_chest = []\n",
    "counta = 0\n",
    "countb = 0\n",
    "for i in covid19.index:\n",
    "    link = covid19['URL'][i]\n",
    "    for a in normal.index:\n",
    "        if(normal['URL'][a] == link):\n",
    "             counta += 1\n",
    "print(counta)\n",
    "\n",
    "for i in covid19.index:\n",
    "    link = covid19['URL'][i]\n",
    "    for b in chest.index:\n",
    "        if(chest['url'][b] == link):\n",
    "            countb += 1\n",
    "            duplicate_chest.append(b)\n",
    "\n",
    "\n",
    "print(countb)\n"
   ]
  },
  {
   "cell_type": "markdown",
   "metadata": {},
   "source": [
    "## 134 Duplicate values were removed from chest Xray dataset"
   ]
  },
  {
   "cell_type": "code",
   "execution_count": 21,
   "metadata": {},
   "outputs": [
    {
     "data": {
      "text/plain": [
       "(796, 29)"
      ]
     },
     "execution_count": 21,
     "metadata": {},
     "output_type": "execute_result"
    }
   ],
   "source": [
    "chestx = chest.drop(chest.index[duplicate_chest])\n",
    "chestx.shape\n"
   ]
  },
  {
   "cell_type": "code",
   "execution_count": 22,
   "metadata": {},
   "outputs": [
    {
     "data": {
      "text/plain": [
       "(930, 29)"
      ]
     },
     "execution_count": 22,
     "metadata": {},
     "output_type": "execute_result"
    }
   ],
   "source": [
    "chest.shape"
   ]
  },
  {
   "cell_type": "markdown",
   "metadata": {},
   "source": [
    "## No similar values were found between normal and chest xray dataset"
   ]
  },
  {
   "cell_type": "code",
   "execution_count": 23,
   "metadata": {},
   "outputs": [
    {
     "name": "stdout",
     "output_type": "stream",
     "text": [
      "0\n"
     ]
    }
   ],
   "source": [
    "counta = 0\n",
    "for i in normal.index:\n",
    "    link = normal['URL'][i]\n",
    "    \n",
    "    for a in chest.index:\n",
    "        if(chest['url'][a] == link):\n",
    "            counta += 1\n",
    "            \n",
    "print(counta)"
   ]
  },
  {
   "cell_type": "markdown",
   "metadata": {},
   "source": [
    "## Merging the Datasets"
   ]
  },
  {
   "cell_type": "markdown",
   "metadata": {},
   "source": [
    "  "
   ]
  },
  {
   "cell_type": "code",
   "execution_count": 24,
   "metadata": {},
   "outputs": [],
   "source": [
    "for i in normal.index:\n",
    "    image = normal['FILE NAME'][i] \n",
    "    ext =  normal['FORMAT'][i]    \n",
    "    root =  \"Radiography\"   \n",
    "    normal['FILE NAME'][i] = root+'/'+image+'.'+ext\n",
    "for i in covid19.index:\n",
    "    image = covid19['FILE NAME'][i] \n",
    "    ext =  covid19['FORMAT'][i]\n",
    "    root =  \"Radiography\"   \n",
    "    covid19['FILE NAME'][i] = root+'/'+image+'.'+ext\n",
    "for i in pneumonia.index:\n",
    "    image = pneumonia['FILE NAME'][i] \n",
    "    ext =  pneumonia['FORMAT'][i]  \n",
    "    root =  \"Radiography\"   \n",
    "    pneumonia['FILE NAME'][i] = root+'/'+image+'.'+ext\n",
    "\n",
    "radiography = pd.concat([normal, covid19, pneumonia])"
   ]
  },
  {
   "cell_type": "code",
   "execution_count": 25,
   "metadata": {},
   "outputs": [
    {
     "data": {
      "text/html": [
       "<div>\n",
       "<style scoped>\n",
       "    .dataframe tbody tr th:only-of-type {\n",
       "        vertical-align: middle;\n",
       "    }\n",
       "\n",
       "    .dataframe tbody tr th {\n",
       "        vertical-align: top;\n",
       "    }\n",
       "\n",
       "    .dataframe thead th {\n",
       "        text-align: right;\n",
       "    }\n",
       "</style>\n",
       "<table border=\"1\" class=\"dataframe\">\n",
       "  <thead>\n",
       "    <tr style=\"text-align: right;\">\n",
       "      <th></th>\n",
       "      <th>FILE NAME</th>\n",
       "      <th>FORMAT</th>\n",
       "      <th>SIZE</th>\n",
       "      <th>URL</th>\n",
       "      <th>label</th>\n",
       "      <th>view</th>\n",
       "    </tr>\n",
       "  </thead>\n",
       "  <tbody>\n",
       "    <tr>\n",
       "      <th>0</th>\n",
       "      <td>Radiography/NORMAL-1.PNG</td>\n",
       "      <td>PNG</td>\n",
       "      <td>1024*1024</td>\n",
       "      <td>https://www.kaggle.com/paultimothymooney/chest...</td>\n",
       "      <td>non-infection</td>\n",
       "      <td>AP</td>\n",
       "    </tr>\n",
       "    <tr>\n",
       "      <th>1</th>\n",
       "      <td>Radiography/NORMAL-2.PNG</td>\n",
       "      <td>PNG</td>\n",
       "      <td>1024*1024</td>\n",
       "      <td>https://www.kaggle.com/paultimothymooney/chest...</td>\n",
       "      <td>non-infection</td>\n",
       "      <td>AP</td>\n",
       "    </tr>\n",
       "    <tr>\n",
       "      <th>2</th>\n",
       "      <td>Radiography/NORMAL-3.PNG</td>\n",
       "      <td>PNG</td>\n",
       "      <td>1024*1024</td>\n",
       "      <td>https://www.kaggle.com/paultimothymooney/chest...</td>\n",
       "      <td>non-infection</td>\n",
       "      <td>AP</td>\n",
       "    </tr>\n",
       "    <tr>\n",
       "      <th>3</th>\n",
       "      <td>Radiography/NORMAL-4.PNG</td>\n",
       "      <td>PNG</td>\n",
       "      <td>1024*1024</td>\n",
       "      <td>https://www.kaggle.com/paultimothymooney/chest...</td>\n",
       "      <td>non-infection</td>\n",
       "      <td>AP</td>\n",
       "    </tr>\n",
       "    <tr>\n",
       "      <th>4</th>\n",
       "      <td>Radiography/NORMAL-5.PNG</td>\n",
       "      <td>PNG</td>\n",
       "      <td>1024*1024</td>\n",
       "      <td>https://www.kaggle.com/paultimothymooney/chest...</td>\n",
       "      <td>non-infection</td>\n",
       "      <td>AP</td>\n",
       "    </tr>\n",
       "    <tr>\n",
       "      <th>...</th>\n",
       "      <td>...</td>\n",
       "      <td>...</td>\n",
       "      <td>...</td>\n",
       "      <td>...</td>\n",
       "      <td>...</td>\n",
       "      <td>...</td>\n",
       "    </tr>\n",
       "    <tr>\n",
       "      <th>1340</th>\n",
       "      <td>Radiography/Viral Pneumonia-1341.PNG</td>\n",
       "      <td>PNG</td>\n",
       "      <td>1024*1024</td>\n",
       "      <td>https://www.kaggle.com/paultimothymooney/chest...</td>\n",
       "      <td>non-covid-19 pneumonia</td>\n",
       "      <td>AP</td>\n",
       "    </tr>\n",
       "    <tr>\n",
       "      <th>1341</th>\n",
       "      <td>Radiography/Viral Pneumonia-1342.PNG</td>\n",
       "      <td>PNG</td>\n",
       "      <td>1024*1024</td>\n",
       "      <td>https://www.kaggle.com/paultimothymooney/chest...</td>\n",
       "      <td>non-covid-19 pneumonia</td>\n",
       "      <td>AP</td>\n",
       "    </tr>\n",
       "    <tr>\n",
       "      <th>1342</th>\n",
       "      <td>Radiography/Viral Pneumonia-1343.PNG</td>\n",
       "      <td>PNG</td>\n",
       "      <td>1024*1024</td>\n",
       "      <td>https://www.kaggle.com/paultimothymooney/chest...</td>\n",
       "      <td>non-covid-19 pneumonia</td>\n",
       "      <td>AP</td>\n",
       "    </tr>\n",
       "    <tr>\n",
       "      <th>1343</th>\n",
       "      <td>Radiography/Viral Pneumonia-1344.PNG</td>\n",
       "      <td>PNG</td>\n",
       "      <td>1024*1024</td>\n",
       "      <td>https://www.kaggle.com/paultimothymooney/chest...</td>\n",
       "      <td>non-covid-19 pneumonia</td>\n",
       "      <td>AP</td>\n",
       "    </tr>\n",
       "    <tr>\n",
       "      <th>1344</th>\n",
       "      <td>Radiography/Viral Pneumonia-1345.PNG</td>\n",
       "      <td>PNG</td>\n",
       "      <td>1024*1024</td>\n",
       "      <td>https://www.kaggle.com/paultimothymooney/chest...</td>\n",
       "      <td>non-covid-19 pneumonia</td>\n",
       "      <td>AP</td>\n",
       "    </tr>\n",
       "  </tbody>\n",
       "</table>\n",
       "<p>2905 rows × 6 columns</p>\n",
       "</div>"
      ],
      "text/plain": [
       "                                 FILE NAME FORMAT       SIZE  \\\n",
       "0                 Radiography/NORMAL-1.PNG    PNG  1024*1024   \n",
       "1                 Radiography/NORMAL-2.PNG    PNG  1024*1024   \n",
       "2                 Radiography/NORMAL-3.PNG    PNG  1024*1024   \n",
       "3                 Radiography/NORMAL-4.PNG    PNG  1024*1024   \n",
       "4                 Radiography/NORMAL-5.PNG    PNG  1024*1024   \n",
       "...                                    ...    ...        ...   \n",
       "1340  Radiography/Viral Pneumonia-1341.PNG    PNG  1024*1024   \n",
       "1341  Radiography/Viral Pneumonia-1342.PNG    PNG  1024*1024   \n",
       "1342  Radiography/Viral Pneumonia-1343.PNG    PNG  1024*1024   \n",
       "1343  Radiography/Viral Pneumonia-1344.PNG    PNG  1024*1024   \n",
       "1344  Radiography/Viral Pneumonia-1345.PNG    PNG  1024*1024   \n",
       "\n",
       "                                                    URL  \\\n",
       "0     https://www.kaggle.com/paultimothymooney/chest...   \n",
       "1     https://www.kaggle.com/paultimothymooney/chest...   \n",
       "2     https://www.kaggle.com/paultimothymooney/chest...   \n",
       "3     https://www.kaggle.com/paultimothymooney/chest...   \n",
       "4     https://www.kaggle.com/paultimothymooney/chest...   \n",
       "...                                                 ...   \n",
       "1340  https://www.kaggle.com/paultimothymooney/chest...   \n",
       "1341  https://www.kaggle.com/paultimothymooney/chest...   \n",
       "1342  https://www.kaggle.com/paultimothymooney/chest...   \n",
       "1343  https://www.kaggle.com/paultimothymooney/chest...   \n",
       "1344  https://www.kaggle.com/paultimothymooney/chest...   \n",
       "\n",
       "                       label view  \n",
       "0              non-infection   AP  \n",
       "1              non-infection   AP  \n",
       "2              non-infection   AP  \n",
       "3              non-infection   AP  \n",
       "4              non-infection   AP  \n",
       "...                      ...  ...  \n",
       "1340  non-covid-19 pneumonia   AP  \n",
       "1341  non-covid-19 pneumonia   AP  \n",
       "1342  non-covid-19 pneumonia   AP  \n",
       "1343  non-covid-19 pneumonia   AP  \n",
       "1344  non-covid-19 pneumonia   AP  \n",
       "\n",
       "[2905 rows x 6 columns]"
      ]
     },
     "execution_count": 25,
     "metadata": {},
     "output_type": "execute_result"
    }
   ],
   "source": [
    "radiography"
   ]
  },
  {
   "cell_type": "code",
   "execution_count": 26,
   "metadata": {},
   "outputs": [],
   "source": [
    "df = radiography[[\"FILE NAME\", \"label\", \"view\"]]\n",
    "merged =df.rename(columns={\"FILE NAME\":\"filename\"})\n"
   ]
  },
  {
   "cell_type": "code",
   "execution_count": 27,
   "metadata": {},
   "outputs": [],
   "source": [
    "def convert_finding_to_label(finding):\n",
    "    if \"COVID-19\" in finding:\n",
    "        return \"covid-19 pneumonia\"\n",
    "    return \"non-covid-19 pneumonia\"\n",
    "\n",
    "chestx= chestx.assign(label=chest.finding.apply(convert_finding_to_label), dataset=\"covid_chestxray\")"
   ]
  },
  {
   "cell_type": "markdown",
   "metadata": {},
   "source": [
    "### Deleting entries for the images which does not exist in dataset"
   ]
  },
  {
   "cell_type": "code",
   "execution_count": 28,
   "metadata": {},
   "outputs": [
    {
     "name": "stderr",
     "output_type": "stream",
     "text": [
      "C:\\Users\\Manoj\\anaconda3\\envs\\tf-keras-gpu-test\\lib\\site-packages\\ipykernel_launcher.py:13: SettingWithCopyWarning: \n",
      "A value is trying to be set on a copy of a slice from a DataFrame\n",
      "\n",
      "See the caveats in the documentation: https://pandas.pydata.org/pandas-docs/stable/user_guide/indexing.html#returning-a-view-versus-a-copy\n",
      "  del sys.path[0]\n"
     ]
    }
   ],
   "source": [
    "import os\n",
    "def check_file(filename):\n",
    "   \n",
    "    if os.path.isfile(filename):\n",
    "        return 1 \n",
    "    else: \n",
    "        return 0\n",
    "    \n",
    "arr = []\n",
    "for i in chestx.index:\n",
    "    image = chestx['filename'][i] \n",
    "    root =  \"covid_chestxray\"   \n",
    "    chestx['filename'][i] = root+'/'+image\n",
    "    val = check_file(chestx['filename'][i])\n",
    "    if val == 0:\n",
    "        arr.append(i)"
   ]
  },
  {
   "cell_type": "code",
   "execution_count": 29,
   "metadata": {},
   "outputs": [
    {
     "name": "stdout",
     "output_type": "stream",
     "text": [
      "(796, 31)\n",
      "(777, 31)\n"
     ]
    }
   ],
   "source": [
    "print(chestx.shape)\n",
    "\n",
    "for i in arr:\n",
    "    chestx = chestx.drop(index = i)    \n",
    "\n",
    "print(chestx.shape)\n"
   ]
  },
  {
   "cell_type": "code",
   "execution_count": 30,
   "metadata": {},
   "outputs": [],
   "source": [
    "merged = pd.concat([merged, chestx[[\"filename\",\"label\",\"view\"]]])"
   ]
  },
  {
   "cell_type": "code",
   "execution_count": 31,
   "metadata": {},
   "outputs": [
    {
     "data": {
      "text/html": [
       "<div>\n",
       "<style scoped>\n",
       "    .dataframe tbody tr th:only-of-type {\n",
       "        vertical-align: middle;\n",
       "    }\n",
       "\n",
       "    .dataframe tbody tr th {\n",
       "        vertical-align: top;\n",
       "    }\n",
       "\n",
       "    .dataframe thead th {\n",
       "        text-align: right;\n",
       "    }\n",
       "</style>\n",
       "<table border=\"1\" class=\"dataframe\">\n",
       "  <thead>\n",
       "    <tr style=\"text-align: right;\">\n",
       "      <th></th>\n",
       "      <th>filename</th>\n",
       "      <th>label</th>\n",
       "      <th>view</th>\n",
       "    </tr>\n",
       "  </thead>\n",
       "  <tbody>\n",
       "    <tr>\n",
       "      <th>0</th>\n",
       "      <td>Radiography/NORMAL-1.PNG</td>\n",
       "      <td>non-infection</td>\n",
       "      <td>AP</td>\n",
       "    </tr>\n",
       "    <tr>\n",
       "      <th>1</th>\n",
       "      <td>Radiography/NORMAL-2.PNG</td>\n",
       "      <td>non-infection</td>\n",
       "      <td>AP</td>\n",
       "    </tr>\n",
       "    <tr>\n",
       "      <th>2</th>\n",
       "      <td>Radiography/NORMAL-3.PNG</td>\n",
       "      <td>non-infection</td>\n",
       "      <td>AP</td>\n",
       "    </tr>\n",
       "    <tr>\n",
       "      <th>3</th>\n",
       "      <td>Radiography/NORMAL-4.PNG</td>\n",
       "      <td>non-infection</td>\n",
       "      <td>AP</td>\n",
       "    </tr>\n",
       "    <tr>\n",
       "      <th>4</th>\n",
       "      <td>Radiography/NORMAL-5.PNG</td>\n",
       "      <td>non-infection</td>\n",
       "      <td>AP</td>\n",
       "    </tr>\n",
       "    <tr>\n",
       "      <th>...</th>\n",
       "      <td>...</td>\n",
       "      <td>...</td>\n",
       "      <td>...</td>\n",
       "    </tr>\n",
       "    <tr>\n",
       "      <th>925</th>\n",
       "      <td>covid_chestxray/e0e3a6526a3fecadfca2be13242798...</td>\n",
       "      <td>non-covid-19 pneumonia</td>\n",
       "      <td>L</td>\n",
       "    </tr>\n",
       "    <tr>\n",
       "      <th>926</th>\n",
       "      <td>covid_chestxray/2264f643b18b1010ec10a850f17550...</td>\n",
       "      <td>non-covid-19 pneumonia</td>\n",
       "      <td>PA</td>\n",
       "    </tr>\n",
       "    <tr>\n",
       "      <th>927</th>\n",
       "      <td>covid_chestxray/800f798a58d0cbcc72eb234f192461...</td>\n",
       "      <td>non-covid-19 pneumonia</td>\n",
       "      <td>L</td>\n",
       "    </tr>\n",
       "    <tr>\n",
       "      <th>928</th>\n",
       "      <td>covid_chestxray/55f5189d2c23688ac8dc1d58eb65cf...</td>\n",
       "      <td>non-covid-19 pneumonia</td>\n",
       "      <td>PA</td>\n",
       "    </tr>\n",
       "    <tr>\n",
       "      <th>929</th>\n",
       "      <td>covid_chestxray/d2cdf41a662113279d2ec21af3a4e2...</td>\n",
       "      <td>non-covid-19 pneumonia</td>\n",
       "      <td>L</td>\n",
       "    </tr>\n",
       "  </tbody>\n",
       "</table>\n",
       "<p>3682 rows × 3 columns</p>\n",
       "</div>"
      ],
      "text/plain": [
       "                                              filename  \\\n",
       "0                             Radiography/NORMAL-1.PNG   \n",
       "1                             Radiography/NORMAL-2.PNG   \n",
       "2                             Radiography/NORMAL-3.PNG   \n",
       "3                             Radiography/NORMAL-4.PNG   \n",
       "4                             Radiography/NORMAL-5.PNG   \n",
       "..                                                 ...   \n",
       "925  covid_chestxray/e0e3a6526a3fecadfca2be13242798...   \n",
       "926  covid_chestxray/2264f643b18b1010ec10a850f17550...   \n",
       "927  covid_chestxray/800f798a58d0cbcc72eb234f192461...   \n",
       "928  covid_chestxray/55f5189d2c23688ac8dc1d58eb65cf...   \n",
       "929  covid_chestxray/d2cdf41a662113279d2ec21af3a4e2...   \n",
       "\n",
       "                      label view  \n",
       "0             non-infection   AP  \n",
       "1             non-infection   AP  \n",
       "2             non-infection   AP  \n",
       "3             non-infection   AP  \n",
       "4             non-infection   AP  \n",
       "..                      ...  ...  \n",
       "925  non-covid-19 pneumonia    L  \n",
       "926  non-covid-19 pneumonia   PA  \n",
       "927  non-covid-19 pneumonia    L  \n",
       "928  non-covid-19 pneumonia   PA  \n",
       "929  non-covid-19 pneumonia    L  \n",
       "\n",
       "[3682 rows x 3 columns]"
      ]
     },
     "execution_count": 31,
     "metadata": {},
     "output_type": "execute_result"
    }
   ],
   "source": [
    "merged"
   ]
  },
  {
   "cell_type": "code",
   "execution_count": 32,
   "metadata": {
    "scrolled": false
   },
   "outputs": [],
   "source": [
    "def convert_figure1_finding(finding):\n",
    "    if finding == \"No finding\":\n",
    "        return \"non-infection\"\n",
    "    elif finding == \"COVID-19\":\n",
    "        return \"covid-19 pneumonia\"\n",
    "    elif finding == \"Pneumonia\":\n",
    "        return \"non-covid-19 pneumonia\"\n",
    "    \n",
    "import os\n",
    "def find_extension(filename):\n",
    "    path = os.path.join(\"figure1\", filename) \n",
    "    png = path+'.png'\n",
    "    jpg = path+'.jpg'\n",
    "  \n",
    "    if os.path.isfile(png):\n",
    "        return \"figure1/\"+filename+\".png\" \n",
    "    elif os.path.isfile(jpg):\n",
    "        return \"figure1/\"+filename+\".jpg\"\n",
    "    \n",
    "figure1 = figure1.assign(url='', dataset=\"figure1\",\n",
    "                         filename =figure1.patientid.apply(find_extension),\n",
    "                         label=figure1.finding.apply(convert_figure1_finding)).dropna(subset=[\"label\"])\n",
    "\n"
   ]
  },
  {
   "cell_type": "code",
   "execution_count": 33,
   "metadata": {},
   "outputs": [],
   "source": [
    "merged = pd.concat([merged, figure1[[\"filename\",\"label\",\"view\"]]])"
   ]
  },
  {
   "cell_type": "code",
   "execution_count": 34,
   "metadata": {},
   "outputs": [
    {
     "data": {
      "text/plain": [
       "(3722, 3)"
      ]
     },
     "execution_count": 34,
     "metadata": {},
     "output_type": "execute_result"
    }
   ],
   "source": [
    "merged.shape"
   ]
  },
  {
   "cell_type": "code",
   "execution_count": 35,
   "metadata": {},
   "outputs": [],
   "source": [
    "actual_med = actual_med.assign(dataset=\"actualmed\",\n",
    "                         filename ='',\n",
    "                         label=actual_med.finding.apply(convert_figure1_finding)).dropna(subset=[\"label\"])\n"
   ]
  },
  {
   "cell_type": "code",
   "execution_count": 36,
   "metadata": {},
   "outputs": [
    {
     "name": "stderr",
     "output_type": "stream",
     "text": [
      "C:\\Users\\Manoj\\anaconda3\\envs\\tf-keras-gpu-test\\lib\\site-packages\\ipykernel_launcher.py:4: SettingWithCopyWarning: \n",
      "A value is trying to be set on a copy of a slice from a DataFrame\n",
      "\n",
      "See the caveats in the documentation: https://pandas.pydata.org/pandas-docs/stable/user_guide/indexing.html#returning-a-view-versus-a-copy\n",
      "  after removing the cwd from sys.path.\n"
     ]
    }
   ],
   "source": [
    "for i in actual_med.index:\n",
    "    image = actual_med['imagename'][i] \n",
    "    root =  \"actual_med\"   \n",
    "    actual_med['filename'][i] = root+'/'+image"
   ]
  },
  {
   "cell_type": "code",
   "execution_count": 37,
   "metadata": {},
   "outputs": [
    {
     "data": {
      "text/plain": [
       "(185, 16)"
      ]
     },
     "execution_count": 37,
     "metadata": {},
     "output_type": "execute_result"
    }
   ],
   "source": [
    "actual_med.shape"
   ]
  },
  {
   "cell_type": "code",
   "execution_count": 38,
   "metadata": {},
   "outputs": [],
   "source": [
    "merged = pd.concat([merged, actual_med[[\"filename\",\"label\",\"view\"]]])"
   ]
  },
  {
   "cell_type": "code",
   "execution_count": 39,
   "metadata": {},
   "outputs": [
    {
     "data": {
      "text/plain": [
       "(3907, 3)"
      ]
     },
     "execution_count": 39,
     "metadata": {},
     "output_type": "execute_result"
    }
   ],
   "source": [
    "merged.shape"
   ]
  },
  {
   "cell_type": "code",
   "execution_count": 40,
   "metadata": {},
   "outputs": [
    {
     "data": {
      "text/plain": [
       "filename     0\n",
       "label        0\n",
       "view        32\n",
       "dtype: int64"
      ]
     },
     "execution_count": 40,
     "metadata": {},
     "output_type": "execute_result"
    }
   ],
   "source": [
    "merged.isnull().sum()"
   ]
  },
  {
   "cell_type": "code",
   "execution_count": 41,
   "metadata": {},
   "outputs": [
    {
     "data": {
      "text/plain": [
       "Index(['filename', 'label', 'view'], dtype='object')"
      ]
     },
     "execution_count": 41,
     "metadata": {},
     "output_type": "execute_result"
    }
   ],
   "source": [
    "merged.columns"
   ]
  },
  {
   "cell_type": "markdown",
   "metadata": {},
   "source": [
    "## Saving the merged files"
   ]
  },
  {
   "cell_type": "code",
   "execution_count": 42,
   "metadata": {},
   "outputs": [],
   "source": [
    "merged.to_csv(\"merged_data_final.csv\")"
   ]
  }
 ],
 "metadata": {
  "kernelspec": {
   "display_name": "Python 3",
   "language": "python",
   "name": "python3"
  },
  "language_info": {
   "codemirror_mode": {
    "name": "ipython",
    "version": 3
   },
   "file_extension": ".py",
   "mimetype": "text/x-python",
   "name": "python",
   "nbconvert_exporter": "python",
   "pygments_lexer": "ipython3",
   "version": "3.8.3"
  }
 },
 "nbformat": 4,
 "nbformat_minor": 4
}
