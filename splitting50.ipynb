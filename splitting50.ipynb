{
 "cells": [
  {
   "cell_type": "code",
   "execution_count": 1,
   "metadata": {},
   "outputs": [],
   "source": [
    "import numpy as np\n",
    "import pandas as pd\n",
    "import matplotlib.pyplot as plt\n",
    "import os\n",
    "import cv2\n",
    "%matplotlib inline"
   ]
  },
  {
   "cell_type": "code",
   "execution_count": 2,
   "metadata": {},
   "outputs": [
    {
     "name": "stdout",
     "output_type": "stream",
     "text": [
      "   Unnamed: 0                  filename          label view\n",
      "0           0  Radiography/NORMAL-1.PNG  non-infection   AP\n",
      "1           1  Radiography/NORMAL-2.PNG  non-infection   AP\n",
      "2           2  Radiography/NORMAL-3.PNG  non-infection   AP\n",
      "3           3  Radiography/NORMAL-4.PNG  non-infection   AP\n",
      "4           4  Radiography/NORMAL-5.PNG  non-infection   AP\n"
     ]
    }
   ],
   "source": [
    "df = pd.read_csv('merged_data_final.csv')\n",
    "print(df.head(5))\n",
    "\n",
    "df[\"view\"].fillna(\"AP\",inplace=True) "
   ]
  },
  {
   "cell_type": "markdown",
   "metadata": {},
   "source": [
    "### DATA SPLITTING"
   ]
  },
  {
   "cell_type": "code",
   "execution_count": 6,
   "metadata": {},
   "outputs": [],
   "source": [
    "from shutil import copy\n",
    "from os import listdir\n",
    "from random import seed\n",
    "from random import random\n",
    "import os\n",
    "\n",
    "seed(1)\n",
    "val_ratio = 0.50\n",
    "\n",
    "#Splitting data into 50% training and 50% test \n",
    "\n",
    "src_directories = [\"FINAL/covid_pneumonia\",\n",
    "                   \"FINAL/healthy\", \n",
    "                   \"FINAL/pneumonia\"]\n",
    "train_directories = [\"train2/covid_pneumonia\", \n",
    "                         \"train2/healthy\", \n",
    "                         \"train2/pneumonia\"]\n",
    "test_directories = [\"test2/covid_pneumonia\",\n",
    "                        \"test2/healthy\",\n",
    "                        \"test2/pneumonia\"]"
   ]
  },
  {
   "cell_type": "code",
   "execution_count": 7,
   "metadata": {},
   "outputs": [
    {
     "name": "stdout",
     "output_type": "stream",
     "text": [
      "Covid-pnuemonia -> train: 378 , test: 356\n",
      "Healthy -> train: 743 , test: 728\n",
      "Non-covid pnuemonia -> train: 860 , test: 842\n",
      "========================================\n",
      "Total train images : 1981\n",
      "Total test images : 1926\n",
      "Total Images : 3907\n"
     ]
    }
   ],
   "source": [
    "count0 = 0\n",
    "count1 = 0\n",
    "count2 = 0\n",
    "count3 = 0\n",
    "count4 = 0\n",
    "count5 = 0\n",
    "for i in listdir(train_directories[0]):\n",
    "      count0+=1\n",
    "for i in listdir(train_directories[1]):\n",
    "      count2+=1\n",
    "for i in listdir(train_directories[2]):\n",
    "      count4+=1\n",
    "for i in listdir(test_directories[0]):\n",
    "      count1+=1\n",
    "for i in listdir(test_directories[1]):\n",
    "      count3+=1\n",
    "for i in listdir(test_directories[2]):\n",
    "      count5+=1\n",
    "\n",
    "#printing total number of images in each category in training and test sets\n",
    "print(\"Covid-pnuemonia -> train: \" +str(count0)+ \" , test: \" +str(count1))\n",
    "print(\"Healthy -> train: \" +str(count2)+ \" , test: \" +str(count3))\n",
    "print(\"Non-covid pnuemonia -> train: \" +str(count4)+ \" , test: \" +str(count5))\n",
    "print(\"========================================\")\n",
    "print(\"Total train images : \" + str(count0+ count2 + count4))\n",
    "print(\"Total test images : \" + str(count1+ count3 + count5))\n",
    "print(\"Total Images : \" + str(count0+count1+count2+count3+count4+count5))"
   ]
  }
 ],
 "metadata": {
  "kernelspec": {
   "display_name": "Python 3",
   "language": "python",
   "name": "python3"
  },
  "language_info": {
   "codemirror_mode": {
    "name": "ipython",
    "version": 3
   },
   "file_extension": ".py",
   "mimetype": "text/x-python",
   "name": "python",
   "nbconvert_exporter": "python",
   "pygments_lexer": "ipython3",
   "version": "3.8.3"
  }
 },
 "nbformat": 4,
 "nbformat_minor": 4
}
